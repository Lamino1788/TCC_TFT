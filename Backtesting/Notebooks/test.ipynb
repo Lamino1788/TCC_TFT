{
 "cells": [
  {
   "cell_type": "code",
   "execution_count": 70,
   "metadata": {},
   "outputs": [],
   "source": [
    "import pandas as pd\n",
    "from utils import *\n"
   ]
  },
  {
   "cell_type": "code",
   "execution_count": 77,
   "metadata": {},
   "outputs": [],
   "source": [
    "tickers = [\"GC=F\"]"
   ]
  },
  {
   "cell_type": "code",
   "execution_count": 78,
   "metadata": {},
   "outputs": [],
   "source": [
    "x=[]\n",
    "for ticker in tickers:\n",
    "    final_df = pd.DataFrame()\n",
    "    a = pd.read_csv(f\"Results/{ticker}.csv\").set_index(\"date\")\n",
    "    a.index = pd.to_datetime(a.index)\n",
    "\n",
    "    macd = pd.read_csv(\"Results/macd.csv\").set_index(\"Date\").fillna(0)\n",
    "    macd.index.rename(\"date\", inplace=True)\n",
    "    macd.index = pd.to_datetime(macd.index)\n",
    "    macd = macd.loc[a.index]\n",
    "\n",
    "    moskowitz = pd.read_csv(\"Results/moskowitz.csv\").set_index(\"Date\").fillna(0)\n",
    "    moskowitz.index.rename(\"date\", inplace=True)\n",
    "    moskowitz.index = pd.to_datetime(moskowitz.index)\n",
    "    moskowitz = moskowitz.loc[a.index]\n",
    "\n",
    "    bayes = pd.read_csv(\"Results/bayes_results.csv\").set_index(\"Date\").fillna(0)\n",
    "    bayes.index.rename(\"date\", inplace=True)\n",
    "    bayes.index = pd.to_datetime(bayes.index)\n",
    "    bayes = bayes[list(a.index)[0]:list(a.index)[-1]]\n",
    "\n",
    "    metrics, benchmark_metrics = get_metrics(pd.Series(a[f'{ticker} Long Only'], dtype=float), pd.Series(a[f'{ticker} Long Only'], dtype=float), 0)\n",
    "    tmp_df = pd.DataFrame(metrics, index=[\"Long Only\"])\n",
    "    final_df = pd.concat([final_df, tmp_df], axis=0)\n",
    "    metrics, benchmark_metrics = get_metrics(pd.Series(macd[f'{ticker}'], dtype=float), pd.Series(a[f'{ticker} Long Only'], dtype=float), 0)\n",
    "    tmp_df = pd.DataFrame(metrics, index=[\"MACD\"])\n",
    "    final_df = pd.concat([final_df, tmp_df], axis=0)\n",
    "    metrics, benchmark_metrics = get_metrics(pd.Series(moskowitz[f'{ticker}'], dtype=float), pd.Series(a[f'{ticker} Long Only'], dtype=float), 0)\n",
    "    tmp_df = pd.DataFrame(metrics, index=[\"Moskowitz\"])\n",
    "    final_df = pd.concat([final_df, tmp_df], axis=0)\n",
    "    metrics, benchmark_metrics = get_metrics(pd.Series(bayes[f'{ticker}'], dtype=float), pd.Series(a[f'{ticker} Long Only'], dtype=float), 0)\n",
    "    tmp_df = pd.DataFrame(metrics, index=[\"Bayes\"])\n",
    "    final_df = pd.concat([final_df, tmp_df], axis=0)\n",
    "    metrics, benchmark_metrics = get_metrics(pd.Series(a[f'{ticker} Using TFT'], dtype=float), pd.Series(a[f'{ticker} Long Only'], dtype=float), 0)\n",
    "    tmp_df = pd.DataFrame(metrics, index=[\"TFT\"])\n",
    "    final_df = pd.concat([final_df, tmp_df], axis=0)\n",
    "\n",
    "    # metrics, benchmark_metrics = get_metrics(pd.Series(a[f'Average Long Only'], dtype=float), pd.Series(a[f'Average Long Only'], dtype=float), 0)\n",
    "    # tmp_df = pd.DataFrame(metrics, index=[\"Long Only\"])\n",
    "    # final_df = pd.concat([final_df, tmp_df], axis=0)\n",
    "    # metrics, benchmark_metrics = get_metrics(pd.Series(macd[f'{ticker}'], dtype=float), pd.Series(a[f'Average Long Only'], dtype=float), 0)\n",
    "    # tmp_df = pd.DataFrame(metrics, index=[\"MACD\"])\n",
    "    # final_df = pd.concat([final_df, tmp_df], axis=0)\n",
    "    # metrics, benchmark_metrics = get_metrics(pd.Series(moskowitz[f'{ticker}'], dtype=float), pd.Series(a[f'Average Long Only'], dtype=float), 0)\n",
    "    # tmp_df = pd.DataFrame(metrics, index=[\"Moskowitz\"])\n",
    "    # final_df = pd.concat([final_df, tmp_df], axis=0)\n",
    "    # try:\n",
    "    #     metrics, benchmark_metrics = get_metrics(pd.Series(bayes[f'{ticker}'], dtype=float), pd.Series(a[f'Average Long Only'], dtype=float), 0)\n",
    "    #     tmp_df = pd.DataFrame(metrics, index=[\"Bayes\"])\n",
    "    #     final_df = pd.concat([final_df, tmp_df], axis=0)\n",
    "    # except:\n",
    "    #     pass\n",
    "    # metrics, benchmark_metrics = get_metrics(pd.Series(a[f'Average Using TFT'], dtype=float), pd.Series(a[f'Average Long Only'], dtype=float), 0)\n",
    "    # tmp_df = pd.DataFrame(metrics, index=[\"TFT\"])\n",
    "    # final_df = pd.concat([final_df, tmp_df], axis=0)\n",
    "\n",
    "    final_df.to_csv(f\"Results/Metrics/Metrics_{ticker}.csv\")\n",
    "    x.append(final_df)\n",
    "    "
   ]
  },
  {
   "cell_type": "code",
   "execution_count": 66,
   "metadata": {},
   "outputs": [
    {
     "data": {
      "text/html": [
       "<div>\n",
       "<style scoped>\n",
       "    .dataframe tbody tr th:only-of-type {\n",
       "        vertical-align: middle;\n",
       "    }\n",
       "\n",
       "    .dataframe tbody tr th {\n",
       "        vertical-align: top;\n",
       "    }\n",
       "\n",
       "    .dataframe thead th {\n",
       "        text-align: right;\n",
       "    }\n",
       "</style>\n",
       "<table border=\"1\" class=\"dataframe\">\n",
       "  <thead>\n",
       "    <tr style=\"text-align: right;\">\n",
       "      <th></th>\n",
       "      <th>total_return</th>\n",
       "      <th>sharpe_ratio</th>\n",
       "      <th>sortino_ratio</th>\n",
       "      <th>omega_ratio</th>\n",
       "      <th>calmar_ratio</th>\n",
       "      <th>annual_volatility</th>\n",
       "      <th>cvar</th>\n",
       "      <th>downside_risk</th>\n",
       "      <th>max_dd</th>\n",
       "      <th>skewness</th>\n",
       "      <th>kurtosis</th>\n",
       "      <th>max_time_underwater</th>\n",
       "      <th>mean_time_underwater</th>\n",
       "      <th>max_daily_return</th>\n",
       "      <th>min_daily_return</th>\n",
       "      <th>beta</th>\n",
       "      <th>cagr</th>\n",
       "      <th>above</th>\n",
       "      <th>more</th>\n",
       "    </tr>\n",
       "  </thead>\n",
       "  <tbody>\n",
       "    <tr>\n",
       "      <th>Long Only</th>\n",
       "      <td>0.169731</td>\n",
       "      <td>0.440353</td>\n",
       "      <td>0.644991</td>\n",
       "      <td>1.000000</td>\n",
       "      <td>0.190874</td>\n",
       "      <td>0.058564</td>\n",
       "      <td>-0.007760</td>\n",
       "      <td>0.039984</td>\n",
       "      <td>-0.127660</td>\n",
       "      <td>0.190659</td>\n",
       "      <td>1.841628</td>\n",
       "      <td>3.0</td>\n",
       "      <td>NaN</td>\n",
       "      <td>2.106223</td>\n",
       "      <td>-1.603131</td>\n",
       "      <td>1.000000</td>\n",
       "      <td>0.000000</td>\n",
       "      <td>0.000000</td>\n",
       "      <td>1.000000</td>\n",
       "    </tr>\n",
       "    <tr>\n",
       "      <th>MACD</th>\n",
       "      <td>0.050179</td>\n",
       "      <td>0.215974</td>\n",
       "      <td>0.305023</td>\n",
       "      <td>0.921423</td>\n",
       "      <td>0.114886</td>\n",
       "      <td>0.038187</td>\n",
       "      <td>-0.005585</td>\n",
       "      <td>0.027038</td>\n",
       "      <td>-0.065690</td>\n",
       "      <td>0.021209</td>\n",
       "      <td>4.252229</td>\n",
       "      <td>NaN</td>\n",
       "      <td>NaN</td>\n",
       "      <td>1.377240</td>\n",
       "      <td>-1.330944</td>\n",
       "      <td>0.134712</td>\n",
       "      <td>-0.016420</td>\n",
       "      <td>-0.016820</td>\n",
       "      <td>0.897795</td>\n",
       "    </tr>\n",
       "    <tr>\n",
       "      <th>Moskowitz</th>\n",
       "      <td>-0.020797</td>\n",
       "      <td>-0.005338</td>\n",
       "      <td>-0.007496</td>\n",
       "      <td>0.944344</td>\n",
       "      <td>-0.019039</td>\n",
       "      <td>0.075200</td>\n",
       "      <td>-0.010439</td>\n",
       "      <td>0.053551</td>\n",
       "      <td>-0.169242</td>\n",
       "      <td>-0.013486</td>\n",
       "      <td>0.871828</td>\n",
       "      <td>NaN</td>\n",
       "      <td>NaN</td>\n",
       "      <td>1.925817</td>\n",
       "      <td>-1.789622</td>\n",
       "      <td>0.039360</td>\n",
       "      <td>-0.026933</td>\n",
       "      <td>-0.027589</td>\n",
       "      <td>0.837118</td>\n",
       "    </tr>\n",
       "    <tr>\n",
       "      <th>TFT</th>\n",
       "      <td>0.466765</td>\n",
       "      <td>1.366383</td>\n",
       "      <td>2.051464</td>\n",
       "      <td>1.137235</td>\n",
       "      <td>1.146105</td>\n",
       "      <td>0.043756</td>\n",
       "      <td>-0.005923</td>\n",
       "      <td>0.029144</td>\n",
       "      <td>-0.052865</td>\n",
       "      <td>-0.044468</td>\n",
       "      <td>1.375528</td>\n",
       "      <td>3.0</td>\n",
       "      <td>NaN</td>\n",
       "      <td>1.459863</td>\n",
       "      <td>-1.238718</td>\n",
       "      <td>0.215181</td>\n",
       "      <td>0.035360</td>\n",
       "      <td>0.036222</td>\n",
       "      <td>1.253934</td>\n",
       "    </tr>\n",
       "  </tbody>\n",
       "</table>\n",
       "</div>"
      ],
      "text/plain": [
       "           total_return  sharpe_ratio  sortino_ratio  omega_ratio  \\\n",
       "Long Only      0.169731      0.440353       0.644991     1.000000   \n",
       "MACD           0.050179      0.215974       0.305023     0.921423   \n",
       "Moskowitz     -0.020797     -0.005338      -0.007496     0.944344   \n",
       "TFT            0.466765      1.366383       2.051464     1.137235   \n",
       "\n",
       "           calmar_ratio  annual_volatility      cvar  downside_risk    max_dd  \\\n",
       "Long Only      0.190874           0.058564 -0.007760       0.039984 -0.127660   \n",
       "MACD           0.114886           0.038187 -0.005585       0.027038 -0.065690   \n",
       "Moskowitz     -0.019039           0.075200 -0.010439       0.053551 -0.169242   \n",
       "TFT            1.146105           0.043756 -0.005923       0.029144 -0.052865   \n",
       "\n",
       "           skewness  kurtosis  max_time_underwater  mean_time_underwater  \\\n",
       "Long Only  0.190659  1.841628                  3.0                   NaN   \n",
       "MACD       0.021209  4.252229                  NaN                   NaN   \n",
       "Moskowitz -0.013486  0.871828                  NaN                   NaN   \n",
       "TFT       -0.044468  1.375528                  3.0                   NaN   \n",
       "\n",
       "           max_daily_return  min_daily_return      beta      cagr     above  \\\n",
       "Long Only          2.106223         -1.603131  1.000000  0.000000  0.000000   \n",
       "MACD               1.377240         -1.330944  0.134712 -0.016420 -0.016820   \n",
       "Moskowitz          1.925817         -1.789622  0.039360 -0.026933 -0.027589   \n",
       "TFT                1.459863         -1.238718  0.215181  0.035360  0.036222   \n",
       "\n",
       "               more  \n",
       "Long Only  1.000000  \n",
       "MACD       0.897795  \n",
       "Moskowitz  0.837118  \n",
       "TFT        1.253934  "
      ]
     },
     "execution_count": 66,
     "metadata": {},
     "output_type": "execute_result"
    }
   ],
   "source": [
    "x[2]"
   ]
  },
  {
   "cell_type": "code",
   "execution_count": 52,
   "metadata": {},
   "outputs": [
    {
     "data": {
      "text/plain": [
       "1641"
      ]
     },
     "execution_count": 52,
     "metadata": {},
     "output_type": "execute_result"
    }
   ],
   "source": [
    "len(a)"
   ]
  },
  {
   "cell_type": "code",
   "execution_count": 53,
   "metadata": {},
   "outputs": [
    {
     "data": {
      "text/plain": [
       "1641"
      ]
     },
     "execution_count": 53,
     "metadata": {},
     "output_type": "execute_result"
    }
   ],
   "source": [
    "len(moskowitz)"
   ]
  },
  {
   "cell_type": "code",
   "execution_count": 54,
   "metadata": {},
   "outputs": [],
   "source": [
    "# tmp = pd.DataFrame()\n",
    "# for ticker in tickers:\n",
    "#     a = pd.read_csv(f\"Results/{ticker}.csv\")\n",
    "#     if tmp.empty:\n",
    "#         tmp[\"date\"] = a[\"date\"]\n",
    "#         tmp[\"Average Long Only\"] = a[f\"{ticker} Long Only\"]\n",
    "#         tmp[\"Average Using TFT\"] = a[f\"{ticker} Using TFT\"]\n",
    "#     else:\n",
    "#         tmp[\"Average Long Only\"] = tmp[\"Average Long Only\"] + a[f\"{ticker} Long Only\"]\n",
    "#         tmp[\"Average Using TFT\"] = tmp[\"Average Using TFT\"] + a[f\"{ticker} Using TFT\"]\n",
    "        \n"
   ]
  },
  {
   "cell_type": "code",
   "execution_count": 55,
   "metadata": {},
   "outputs": [],
   "source": [
    "# tmp[\"Average Long Only\"] = tmp[\"Average Long Only\"]/6\n",
    "# tmp[\"Average Using TFT\"] = tmp[\"Average Using TFT\"]/6"
   ]
  },
  {
   "cell_type": "code",
   "execution_count": 56,
   "metadata": {},
   "outputs": [],
   "source": [
    "# tmp.to_csv(\"AverageMoeda.csv\")"
   ]
  },
  {
   "cell_type": "code",
   "execution_count": 57,
   "metadata": {},
   "outputs": [],
   "source": [
    "b = pd.read_csv(\"Results/moskowitz.csv\")"
   ]
  },
  {
   "cell_type": "code",
   "execution_count": 58,
   "metadata": {},
   "outputs": [],
   "source": [
    "b[\"AverageRenda_Fixa\"] = (b['ZF=F'] + b['ZT=F'] + b['ZN=F'] + b['ZB=F'])/4\n",
    "b[\"AverageMoeda\"] = (b[\"BRL=X\"] + b[\"CAD=X\"] + b[\"GBP=X\"] + b[\"MXN=X\"] + b[\"JPY=X\"] + b[\"EUR=X\"])/6\n",
    "b[\"AverageEquity\"] = (b[\"ES=F\"] + b[\"NQ=F\"] + b[\"YM=F\"])/3\n"
   ]
  },
  {
   "cell_type": "code",
   "execution_count": null,
   "metadata": {},
   "outputs": [],
   "source": [
    "b.to_csv(\"Results/moskowitz.csv\")"
   ]
  },
  {
   "cell_type": "code",
   "execution_count": null,
   "metadata": {},
   "outputs": [],
   "source": []
  }
 ],
 "metadata": {
  "kernelspec": {
   "display_name": "Python 3.10.11 64-bit (microsoft store)",
   "language": "python",
   "name": "python3"
  },
  "language_info": {
   "codemirror_mode": {
    "name": "ipython",
    "version": 3
   },
   "file_extension": ".py",
   "mimetype": "text/x-python",
   "name": "python",
   "nbconvert_exporter": "python",
   "pygments_lexer": "ipython3",
   "version": "3.10.11"
  },
  "orig_nbformat": 4,
  "vscode": {
   "interpreter": {
    "hash": "7ddf36f4e055dc44e5decc2aff9f754ff05796dbb935e7202ebe83552d829846"
   }
  }
 },
 "nbformat": 4,
 "nbformat_minor": 2
}
